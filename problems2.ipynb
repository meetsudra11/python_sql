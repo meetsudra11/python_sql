{
 "cells": [
  {
   "cell_type": "markdown",
   "metadata": {},
   "source": [
    " Write a program that will give you in hand monthly salary after deduction on CTC - HRA(10%), DA(5%), PF(3%) and taxes deduction as below:\n",
    "Salary(Lakhs) : Tax(%)\n",
    "\n",
    "Below 5 : 0%\n",
    "\n",
    "5-10 : 10%\n",
    "\n",
    "10-20 : 20%\n",
    "\n",
    "aboove 20 : 30%"
   ]
  },
  {
   "cell_type": "code",
   "execution_count": null,
   "metadata": {},
   "outputs": [],
   "source": [
    "sal = int(input())\n",
    "hra = 10/100*sal\n",
    "da = 5/100*sal\n",
    "pf = 3/100*sal\n",
    "\n",
    "if sal<500000:\n",
    "    tax = 0\n",
    "elif 500000<=sal<=1000000: \n",
    "    tax = 10/100*sal# 10 per tax\n",
    "elif 1000000<sal<=2000000:\n",
    "    tax = 20/100*sal# 20 per tax\n",
    "else:\n",
    "    tax = 30/100*sal# 30 per tax\n",
    "\n",
    "ctc_in_hand = sal - (hra+da+pf+tax)\n",
    "montly_sal = ctc_in_hand/12"
   ]
  },
  {
   "cell_type": "markdown",
   "metadata": {},
   "source": [
    "Write a program that take a user input of three angles and will find out whether it can form a triangle or not."
   ]
  },
  {
   "cell_type": "code",
   "execution_count": null,
   "metadata": {},
   "outputs": [],
   "source": [
    "a,b,c = int(input()),int(input()),int(input())\n",
    "\n",
    "if a>0 and b>0 and c>0 and a+b+c == 180:\n",
    "    print(f'angle a={a},b={b},c={c} can form a traingle')\n",
    "else:\n",
    "    print(f'angle a={a},b={b},c={c} cannot form a traingle')"
   ]
  },
  {
   "cell_type": "markdown",
   "metadata": {},
   "source": [
    "Display Fibonacci series up to 10 terms"
   ]
  },
  {
   "cell_type": "code",
   "execution_count": 5,
   "metadata": {},
   "outputs": [
    {
     "name": "stdout",
     "output_type": "stream",
     "text": [
      "0\n",
      "1\n",
      "1\n",
      "2\n",
      "3\n",
      "5\n",
      "8\n",
      "13\n",
      "21\n",
      "34\n"
     ]
    }
   ],
   "source": [
    "num1, num2 = 0,1\n",
    "\n",
    "for i in range(10):\n",
    "    print(num1)\n",
    "\n",
    "    next = num1 + num2\n",
    "\n",
    "    num1 = num2\n",
    "    num2 = next"
   ]
  },
  {
   "cell_type": "markdown",
   "metadata": {},
   "source": [
    "Write a menu-driven program \n",
    "1. cm to ft \n",
    "2. km to miles \n",
    "3. USD to INR \n",
    "4. exit"
   ]
  },
  {
   "cell_type": "code",
   "execution_count": 3,
   "metadata": {},
   "outputs": [
    {
     "name": "stdout",
     "output_type": "stream",
     "text": [
      "After converion value is: 6240.0\n"
     ]
    }
   ],
   "source": [
    "menu = input(\"\"\"\n",
    "Select one of them:\n",
    "1 for cm to ft\n",
    "2 for km to miles\n",
    "3 for USD to INR\n",
    "4 to exit\n",
    "\"\"\")\n",
    "\n",
    "if menu == '1':\n",
    "    cm_value = float(input(\"Enter the value\"))\n",
    "    print(\"After converion value is:\",cm_value*0.032)\n",
    "\n",
    "elif menu == '2':\n",
    "    km_value = float(input(\"Enter the value\"))\n",
    "    print(\"After converion value is:\",km_value*0.62)\n",
    "\n",
    "elif menu == '3':\n",
    "    usd_value = float(input(\"Enter the value\"))\n",
    "    print(\"After converion value is:\",usd_value*80)\n",
    "\n",
    "else:\n",
    "    exit()"
   ]
  },
  {
   "cell_type": "markdown",
   "metadata": {},
   "source": [
    "Find the factorial of a given number.\n",
    "- Write a program to use the loop to find the factorial of a given number.\n",
    "- The factorial (symbol: !) means to multiply all whole numbers from the chosen number down to 1.\n",
    "\n",
    "- For example: calculate the factorial of 5"
   ]
  },
  {
   "cell_type": "code",
   "execution_count": 13,
   "metadata": {},
   "outputs": [
    {
     "name": "stdout",
     "output_type": "stream",
     "text": [
      "24\n"
     ]
    }
   ],
   "source": [
    "a = int(input(\"enter a number\"))\n",
    "\n",
    "fact = 1\n",
    "for i in range(1,a+1):\n",
    "    fact = fact*i\n",
    "\n",
    "print(fact)\n"
   ]
  },
  {
   "cell_type": "markdown",
   "metadata": {},
   "source": [
    "Reverse a given integer number\n",
    "23234 ----> 43232"
   ]
  },
  {
   "cell_type": "code",
   "execution_count": 16,
   "metadata": {},
   "outputs": [
    {
     "name": "stdout",
     "output_type": "stream",
     "text": [
      "452312\n"
     ]
    }
   ],
   "source": [
    "a = 213254\n",
    "rev = 0\n",
    "\n",
    "while a>0:\n",
    "    lastnum = a % 10\n",
    "    rev = rev*10 + lastnum\n",
    "    a = a//10\n",
    "\n",
    "print(rev)"
   ]
  },
  {
   "cell_type": "markdown",
   "metadata": {},
   "source": [
    "- Take a user input as integer N. \n",
    "- Find out the sum from 1 to N. \n",
    "- If any number if divisible by 5, then skip that number. \n",
    "- And if the sum is greater than 300, don't need to calculate the sum further more. \n",
    "- Print the final result. And don't use for loop to solve this problem"
   ]
  },
  {
   "cell_type": "code",
   "execution_count": 62,
   "metadata": {},
   "outputs": [
    {
     "name": "stdout",
     "output_type": "stream",
     "text": [
      "for i : 1 sum rn: 0\n",
      "sum till now: 1\n",
      "for i : 2 sum rn: 1\n",
      "sum till now: 3\n",
      "for i : 3 sum rn: 3\n",
      "sum till now: 6\n",
      "for i : 4 sum rn: 6\n",
      "sum till now: 10\n",
      "for i : 6 sum rn: 10\n",
      "sum till now: 16\n",
      "for i : 7 sum rn: 16\n",
      "sum till now: 23\n",
      "for i : 8 sum rn: 23\n",
      "sum till now: 31\n",
      "for i : 9 sum rn: 31\n",
      "sum till now: 40\n",
      "for i : 11 sum rn: 40\n",
      "sum till now: 51\n",
      "for i : 12 sum rn: 51\n",
      "sum till now: 63\n",
      "for i : 13 sum rn: 63\n",
      "sum till now: 76\n",
      "for i : 14 sum rn: 76\n",
      "sum till now: 90\n",
      "for i : 16 sum rn: 90\n",
      "sum till now: 106\n",
      "for i : 17 sum rn: 106\n",
      "sum till now: 123\n",
      "for i : 18 sum rn: 123\n",
      "sum till now: 141\n",
      "for i : 19 sum rn: 141\n",
      "sum till now: 160\n",
      "for i : 21 sum rn: 160\n",
      "sum till now: 181\n",
      "for i : 22 sum rn: 181\n",
      "sum till now: 203\n",
      "for i : 23 sum rn: 203\n",
      "sum till now: 226\n",
      "for i : 24 sum rn: 226\n",
      "sum till now: 250\n",
      "for i : 26 sum rn: 250\n",
      "sum till now: 276\n",
      "for i : 27 sum rn: 276\n",
      "Sum exceeded 300. Breaking the loop.\n"
     ]
    }
   ],
   "source": [
    "# using for loop \n",
    "n = 30\n",
    "sum = 0 \n",
    "\n",
    "for i in range(1,n+1):\n",
    "    if i%5==0:\n",
    "        continue # skip this number\n",
    "    print('for i :',i, 'sum rn:',sum)\n",
    "    sum = sum + i\n",
    "\n",
    "    \n",
    "    if sum > 300:\n",
    "        print(\"Sum exceeded 300. Breaking the loop.\")\n",
    "        break\n",
    "    \n",
    "    print(\"sum till now:\",sum)\n",
    "\n"
   ]
  },
  {
   "cell_type": "code",
   "execution_count": 63,
   "metadata": {},
   "outputs": [
    {
     "name": "stdout",
     "output_type": "stream",
     "text": [
      "for i : 1 sum rn: 0\n",
      "sum till now: 1\n",
      "for i : 2 sum rn: 1\n",
      "sum till now: 3\n",
      "for i : 3 sum rn: 3\n",
      "sum till now: 6\n",
      "for i : 4 sum rn: 6\n",
      "sum till now: 10\n",
      "for i : 6 sum rn: 10\n",
      "sum till now: 16\n",
      "for i : 7 sum rn: 16\n",
      "sum till now: 23\n",
      "for i : 8 sum rn: 23\n",
      "sum till now: 31\n",
      "for i : 9 sum rn: 31\n",
      "sum till now: 40\n"
     ]
    }
   ],
   "source": [
    "# using while loop\n",
    "n = 10\n",
    "sum = 0\n",
    "i = 1\n",
    "while i<n+1:\n",
    "    if i%5 == 0:\n",
    "        i += 1\n",
    "        continue\n",
    "\n",
    "    print('for i :',i, 'sum rn:',sum)\n",
    "    sum = sum + i \n",
    "    i+=1\n",
    "    \n",
    "    if sum>300:\n",
    "        print(\"Sum exceeded 300. Breaking the loop.\")\n",
    "        break\n",
    "\n",
    "    print(\"sum till now:\",sum)\n"
   ]
  },
  {
   "cell_type": "markdown",
   "metadata": {},
   "source": [
    "Write a program which will find all such numbers which are divisible by 7 but are not a multiple of 5, between 2000 and 3200 (both included). The numbers obtained should be printed in a comma-separated sequence on a single line."
   ]
  },
  {
   "cell_type": "code",
   "execution_count": 64,
   "metadata": {},
   "outputs": [
    {
     "name": "stdout",
     "output_type": "stream",
     "text": [
      "2002,2009,2016,2023,2037,2044,2051,2058,2072,2079,2086,2093,2107,2114,2121,2128,2142,2149,2156,2163,2177,2184,2191,2198,2212,2219,2226,2233,2247,2254,2261,2268,2282,2289,2296,2303,2317,2324,2331,2338,2352,2359,2366,2373,2387,2394,2401,2408,2422,2429,2436,2443,2457,2464,2471,2478,2492,2499,2506,2513,2527,2534,2541,2548,2562,2569,2576,2583,2597,2604,2611,2618,2632,2639,2646,2653,2667,2674,2681,2688,2702,2709,2716,2723,2737,2744,2751,2758,2772,2779,2786,2793,2807,2814,2821,2828,2842,2849,2856,2863,2877,2884,2891,2898,2912,2919,2926,2933,2947,2954,2961,2968,2982,2989,2996,3003,3017,3024,3031,3038,3052,3059,3066,3073,3087,3094,3101,3108,3122,3129,3136,3143,3157,3164,3171,3178,3192,3199\n"
     ]
    }
   ],
   "source": [
    "result = []\n",
    "for i in range(2000,3201):\n",
    "    if i%7==0 and i%5!=0:\n",
    "        result.append(str(i))\n",
    "print(\",\".join(result))"
   ]
  },
  {
   "cell_type": "code",
   "execution_count": null,
   "metadata": {},
   "outputs": [],
   "source": []
  }
 ],
 "metadata": {
  "kernelspec": {
   "display_name": "Python 3",
   "language": "python",
   "name": "python3"
  },
  "language_info": {
   "codemirror_mode": {
    "name": "ipython",
    "version": 3
   },
   "file_extension": ".py",
   "mimetype": "text/x-python",
   "name": "python",
   "nbconvert_exporter": "python",
   "pygments_lexer": "ipython3",
   "version": "3.12.3"
  }
 },
 "nbformat": 4,
 "nbformat_minor": 2
}
