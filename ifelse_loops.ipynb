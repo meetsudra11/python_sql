{
 "cells": [
  {
   "cell_type": "markdown",
   "metadata": {},
   "source": [
    "# IF-ELSE AND NESTED IF-ELSE \n",
    "\n",
    "If else occurs when branching occurs in the code "
   ]
  },
  {
   "cell_type": "code",
   "execution_count": 75,
   "metadata": {},
   "outputs": [
    {
     "name": "stdout",
     "output_type": "stream",
     "text": [
      "Credentials did'nt match\n"
     ]
    }
   ],
   "source": [
    "email = 'meetsudra03@gmail.com'\n",
    "password = '134'\n",
    "\n",
    "# if condition:\n",
    "#     code\n",
    "# else:\n",
    "#     code\n",
    "\n",
    "if email == 'meetsudra03@gmail.com' and password == '1234':\n",
    "    print('welcome to python language')\n",
    "else:\n",
    "    print('Credentials did\\'nt match')\n"
   ]
  },
  {
   "cell_type": "code",
   "execution_count": 76,
   "metadata": {},
   "outputs": [
    {
     "name": "stdout",
     "output_type": "stream",
     "text": [
      "Enter correct credentials!\n",
      "Beta tu pogo dekh\n"
     ]
    }
   ],
   "source": [
    "if email == 'meetsudra03@gmail.com' and password == '1234':\n",
    "    print('welcome to python language')\n",
    "elif email == 'meetsudra03@gmail.com' and password != '1234':\n",
    "    print('Enter correct credentials!')\n",
    "    password = input('Enter your password')\n",
    "    if email == 'meetsudra03@gmail.com' and password == '1234':\n",
    "        print('welcome to python language')\n",
    "    else:\n",
    "        print('Beta tu pogo dekh')\n",
    "else:\n",
    "    print('Credentials did\\'nt match')"
   ]
  },
  {
   "cell_type": "code",
   "execution_count": 77,
   "metadata": {},
   "outputs": [
    {
     "name": "stdout",
     "output_type": "stream",
     "text": [
      "b is the smallest amoung all\n"
     ]
    }
   ],
   "source": [
    "# find the min of 3 given numbers\n",
    "\n",
    "a,b,c = 55,45,53\n",
    "\n",
    "if a<b and a<c:\n",
    "    print(\"a is the smallest amoung all\")\n",
    "elif b<c: # a is bigger then b ofc it wont be smaller then b.\n",
    "    print(\"b is the smallest amoung all\")\n",
    "else:\n",
    "    print(\"c is the smallest amoung all \")"
   ]
  },
  {
   "cell_type": "code",
   "execution_count": null,
   "metadata": {},
   "outputs": [],
   "source": [
    "# Menu driven program\n",
    "\n",
    "# Build a calculator which does not have a GUI , works as if you are on a customer helpline call and the program on that call is asking for numbers 1 2 3 . . for different concerns\n",
    "\n",
    "# Calc will ask enter the numbers \n",
    "fnum = int(input('Enter the 1st number'))\n",
    "operation = input('Enter the operation ')\n",
    "snum = int(input('ENter the 2nd number'))\n",
    "\n",
    "if operation == '+':\n",
    "    print(fnum+snum)\n",
    "elif operation == '-':\n",
    "    print(fnum-snum)\n",
    "elif operation == '/':\n",
    "    print(fnum/snum)\n",
    "else:\n",
    "    print(fnum*snum)"
   ]
  },
  {
   "cell_type": "markdown",
   "metadata": {},
   "source": [
    "# LOOPS"
   ]
  },
  {
   "cell_type": "code",
   "execution_count": 79,
   "metadata": {},
   "outputs": [
    {
     "name": "stdout",
     "output_type": "stream",
     "text": [
      "5\n",
      "10\n",
      "15\n",
      "20\n",
      "25\n",
      "30\n",
      "35\n",
      "40\n",
      "45\n",
      "50\n"
     ]
    }
   ],
   "source": [
    "# print a table of given number\n",
    "a = 5\n",
    "i = 1\n",
    "while i < 11:\n",
    "    print(a * i)\n",
    "    i += 1\n",
    "    "
   ]
  },
  {
   "cell_type": "code",
   "execution_count": 80,
   "metadata": {},
   "outputs": [
    {
     "name": "stdout",
     "output_type": "stream",
     "text": [
      "1\n",
      "2\n",
      "that's all\n"
     ]
    }
   ],
   "source": [
    "x = 1\n",
    "while x<3:\n",
    "    print(x)\n",
    "    x+=1\n",
    "else:\n",
    "    print('that\\'s all')"
   ]
  },
  {
   "cell_type": "code",
   "execution_count": null,
   "metadata": {},
   "outputs": [],
   "source": [
    "#guessing game \n",
    "\n",
    "import random\n",
    "num = random.randint(1,100)\n",
    "usernum = int(input())\n",
    "i = 1\n",
    "while i<10:\n",
    "    if usernum == num:\n",
    "        print('Congratulations you won!')\n",
    "        break\n",
    "    elif usernum < num :\n",
    "        print('Your guess was too low, guess any higher number')\n",
    "        usernum = int(input())\n",
    "    else :\n",
    "        print('Your guess was too high guess any lower number')\n",
    "        usernum = int(input())\n",
    "\n",
    "    i += 1\n",
    "else :\n",
    "    print('Better luck next time')\n",
    "        "
   ]
  },
  {
   "cell_type": "code",
   "execution_count": 81,
   "metadata": {},
   "outputs": [
    {
     "name": "stdout",
     "output_type": "stream",
     "text": [
      "1\n",
      "2\n",
      "3\n",
      "4\n",
      "5\n",
      "6\n",
      "7\n",
      "8\n",
      "9\n",
      "10\n"
     ]
    }
   ],
   "source": [
    "for i in range(1,11):\n",
    "    print(i)"
   ]
  },
  {
   "cell_type": "code",
   "execution_count": 82,
   "metadata": {},
   "outputs": [
    {
     "name": "stdout",
     "output_type": "stream",
     "text": [
      "1\n",
      "3\n",
      "5\n",
      "7\n",
      "9\n",
      "11\n",
      "13\n",
      "15\n",
      "17\n",
      "19\n"
     ]
    }
   ],
   "source": [
    "for i in range(1,20,2): #step size\n",
    "    print(i)"
   ]
  },
  {
   "cell_type": "code",
   "execution_count": 83,
   "metadata": {},
   "outputs": [
    {
     "name": "stdout",
     "output_type": "stream",
     "text": [
      "10\n",
      "9\n",
      "8\n",
      "7\n",
      "6\n",
      "5\n",
      "4\n",
      "3\n",
      "2\n",
      "1\n"
     ]
    }
   ],
   "source": [
    "for i in range(10,0,-1):\n",
    "    print(i)"
   ]
  },
  {
   "cell_type": "code",
   "execution_count": 84,
   "metadata": {},
   "outputs": [
    {
     "name": "stdout",
     "output_type": "stream",
     "text": [
      "10 10000\n",
      "9 9090.90909090909\n",
      "8 8264.462809917353\n",
      "7 7513.148009015775\n",
      "6 6830.134553650703\n",
      "5 6209.213230591548\n",
      "4 5644.739300537771\n",
      "3 5131.5811823070635\n",
      "2 4665.07380209733\n",
      "1 4240.976183724845\n"
     ]
    }
   ],
   "source": [
    "# The current Population of a town is 10000. The population of the town is increasing at the rate of 10% per year. You have to write a program to find out the population at the end of each of the last 10 years.\n",
    "\n",
    "\n",
    "pop = 10000\n",
    "\n",
    "for i in range(10,0,-1):\n",
    "    print(i,pop)\n",
    "    pop = pop/1.1"
   ]
  },
  {
   "cell_type": "code",
   "execution_count": null,
   "metadata": {},
   "outputs": [],
   "source": [
    "n = int(input())\n",
    "result = 0\n",
    "fact = 1\n",
    "\n",
    "for i in range(1,n+1):\n",
    "    fact = fact*i\n",
    "    result = result + i/fact\n",
    "print(result)\n",
    "    "
   ]
  },
  {
   "cell_type": "markdown",
   "metadata": {},
   "source": [
    "# NESTED LOOPS"
   ]
  },
  {
   "cell_type": "code",
   "execution_count": 1,
   "metadata": {},
   "outputs": [
    {
     "name": "stdout",
     "output_type": "stream",
     "text": [
      "1 1\n",
      "1 2\n",
      "1 3\n",
      "1 4\n",
      "2 1\n",
      "2 2\n",
      "2 3\n",
      "2 4\n",
      "3 1\n",
      "3 2\n",
      "3 3\n",
      "3 4\n",
      "4 1\n",
      "4 2\n",
      "4 3\n",
      "4 4\n"
     ]
    }
   ],
   "source": [
    "# print all the pairs amoung 1,2,3,4\n",
    "\n",
    "for i in range(1,5):\n",
    "    for j in range(1,5):\n",
    "        print(i,j)"
   ]
  },
  {
   "cell_type": "code",
   "execution_count": 7,
   "metadata": {},
   "outputs": [
    {
     "name": "stdout",
     "output_type": "stream",
     "text": [
      "* \n",
      "* * \n",
      "* * * \n"
     ]
    }
   ],
   "source": [
    "# *\n",
    "# **\n",
    "# ***\n",
    "\n",
    "for i in range(1,4):\n",
    "    for j in range(1,i+1):\n",
    "        print('*',end=\" \")\n",
    "    print(\"\")\n"
   ]
  },
  {
   "cell_type": "code",
   "execution_count": 87,
   "metadata": {},
   "outputs": [
    {
     "name": "stdout",
     "output_type": "stream",
     "text": [
      "*\n",
      "**\n",
      "***\n",
      "****\n",
      "*****\n",
      "******\n",
      "*******\n",
      "********\n",
      "*********\n",
      "**********\n"
     ]
    }
   ],
   "source": [
    "n = 10\n",
    "for i in range(1,n+1):\n",
    "    for j in range(1,i+1):\n",
    "        print('*',end='')\n",
    "    print()\n",
    "\n"
   ]
  },
  {
   "cell_type": "code",
   "execution_count": 18,
   "metadata": {},
   "outputs": [
    {
     "name": "stdout",
     "output_type": "stream",
     "text": [
      "1 \n",
      "1 2 1 \n",
      "1 2 3 2 1 \n",
      "1 2 3 4 3 2 1 \n"
     ]
    }
   ],
   "source": [
    "# 1\n",
    "# 121\n",
    "# 12321\n",
    "# 1234321\n",
    "\n",
    "for i in range(1,5):\n",
    "    for j in range(1,i+1):\n",
    "        print(j,end=\" \")\n",
    "    for k in range(i-1,0,-1):\n",
    "        print(k,end=' ')\n",
    "    print(\"\")\n",
    "\n"
   ]
  },
  {
   "cell_type": "markdown",
   "metadata": {},
   "source": [
    "# LOOP CONTROL STATEMENTS"
   ]
  },
  {
   "cell_type": "code",
   "execution_count": 19,
   "metadata": {},
   "outputs": [
    {
     "name": "stdout",
     "output_type": "stream",
     "text": [
      "1\n",
      "2\n",
      "3\n",
      "4\n"
     ]
    }
   ],
   "source": [
    "# Break \n",
    "for i in range(1,11):\n",
    "    if i == 5:\n",
    "        break\n",
    "    print(i)"
   ]
  },
  {
   "cell_type": "code",
   "execution_count": 20,
   "metadata": {},
   "outputs": [
    {
     "name": "stdout",
     "output_type": "stream",
     "text": [
      "1\n",
      "2\n",
      "3\n",
      "4\n",
      "6\n",
      "7\n",
      "8\n",
      "9\n"
     ]
    }
   ],
   "source": [
    "for i in range(1,10):\n",
    "    if i == 5:\n",
    "        continue # skip karedega\n",
    "    print(i)"
   ]
  }
 ],
 "metadata": {
  "kernelspec": {
   "display_name": "Python 3",
   "language": "python",
   "name": "python3"
  },
  "language_info": {
   "codemirror_mode": {
    "name": "ipython",
    "version": 3
   },
   "file_extension": ".py",
   "mimetype": "text/x-python",
   "name": "python",
   "nbconvert_exporter": "python",
   "pygments_lexer": "ipython3",
   "version": "3.12.3"
  }
 },
 "nbformat": 4,
 "nbformat_minor": 2
}
